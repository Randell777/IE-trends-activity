{
  "nbformat": 4,
  "nbformat_minor": 0,
  "metadata": {
    "colab": {
      "name": "May 15",
      "provenance": [],
      "authorship_tag": "ABX9TyOZWGlYwzAMCp6BwXA2tUzc",
      "include_colab_link": true
    },
    "kernelspec": {
      "name": "python3",
      "display_name": "Python 3"
    },
    "language_info": {
      "name": "python"
    }
  },
  "cells": [
    {
      "cell_type": "markdown",
      "metadata": {
        "id": "view-in-github",
        "colab_type": "text"
      },
      "source": [
        "<a href=\"https://colab.research.google.com/github/Randell777/IE-trends-activity/blob/main/May_15.ipynb\" target=\"_parent\"><img src=\"https://colab.research.google.com/assets/colab-badge.svg\" alt=\"Open In Colab\"/></a>"
      ]
    },
    {
      "cell_type": "code",
      "metadata": {
        "id": "c94eIMMh0_cb"
      },
      "source": [
        "import pandas as pd\n",
        "import matplotlib.pyplot as plt\n",
        "import seaborn as sns\n",
        "import numpy as np"
      ],
      "execution_count": 42,
      "outputs": []
    },
    {
      "cell_type": "markdown",
      "metadata": {
        "id": "-J5PMtL-1Auv"
      },
      "source": [
        "## Data Cleaning"
      ]
    },
    {
      "cell_type": "code",
      "metadata": {
        "colab": {
          "base_uri": "https://localhost:8080/",
          "height": 419
        },
        "id": "ultI8eOP1H8p",
        "outputId": "b61403bd-9b13-4438-f901-fe08edc558b2"
      },
      "source": [
        "naia_df = pd.read_excel(\"NAIA Daily 2017.xlsx\")\n",
        "naia_df"
      ],
      "execution_count": 43,
      "outputs": [
        {
          "output_type": "execute_result",
          "data": {
            "text/html": [
              "<div>\n",
              "<style scoped>\n",
              "    .dataframe tbody tr th:only-of-type {\n",
              "        vertical-align: middle;\n",
              "    }\n",
              "\n",
              "    .dataframe tbody tr th {\n",
              "        vertical-align: top;\n",
              "    }\n",
              "\n",
              "    .dataframe thead th {\n",
              "        text-align: right;\n",
              "    }\n",
              "</style>\n",
              "<table border=\"1\" class=\"dataframe\">\n",
              "  <thead>\n",
              "    <tr style=\"text-align: right;\">\n",
              "      <th></th>\n",
              "      <th>YEAR</th>\n",
              "      <th>MONTH</th>\n",
              "      <th>DAY</th>\n",
              "      <th>RAINFALL</th>\n",
              "      <th>TMAX</th>\n",
              "      <th>TMIN</th>\n",
              "      <th>TMEAN</th>\n",
              "      <th>WIND SPEED</th>\n",
              "      <th>WIND DIRECTION</th>\n",
              "    </tr>\n",
              "  </thead>\n",
              "  <tbody>\n",
              "    <tr>\n",
              "      <th>0</th>\n",
              "      <td>NaN</td>\n",
              "      <td>NaN</td>\n",
              "      <td>NaN</td>\n",
              "      <td>mm</td>\n",
              "      <td>°C</td>\n",
              "      <td>°C</td>\n",
              "      <td>°C</td>\n",
              "      <td>m/s</td>\n",
              "      <td>degrees</td>\n",
              "    </tr>\n",
              "    <tr>\n",
              "      <th>1</th>\n",
              "      <td>2017.0</td>\n",
              "      <td>1.0</td>\n",
              "      <td>1.0</td>\n",
              "      <td>0</td>\n",
              "      <td>31.931</td>\n",
              "      <td>23.6</td>\n",
              "      <td>27.7655</td>\n",
              "      <td>3</td>\n",
              "      <td>80</td>\n",
              "    </tr>\n",
              "    <tr>\n",
              "      <th>2</th>\n",
              "      <td>2017.0</td>\n",
              "      <td>1.0</td>\n",
              "      <td>2.0</td>\n",
              "      <td>0</td>\n",
              "      <td>31</td>\n",
              "      <td>24.6</td>\n",
              "      <td>27.8</td>\n",
              "      <td>2</td>\n",
              "      <td>70</td>\n",
              "    </tr>\n",
              "    <tr>\n",
              "      <th>3</th>\n",
              "      <td>2017.0</td>\n",
              "      <td>1.0</td>\n",
              "      <td>3.0</td>\n",
              "      <td>0</td>\n",
              "      <td>32.5</td>\n",
              "      <td>25.2</td>\n",
              "      <td>28.85</td>\n",
              "      <td>3</td>\n",
              "      <td>80</td>\n",
              "    </tr>\n",
              "    <tr>\n",
              "      <th>4</th>\n",
              "      <td>2017.0</td>\n",
              "      <td>1.0</td>\n",
              "      <td>4.0</td>\n",
              "      <td>T</td>\n",
              "      <td>NaN</td>\n",
              "      <td>24.2</td>\n",
              "      <td>NaN</td>\n",
              "      <td>2</td>\n",
              "      <td>100</td>\n",
              "    </tr>\n",
              "    <tr>\n",
              "      <th>...</th>\n",
              "      <td>...</td>\n",
              "      <td>...</td>\n",
              "      <td>...</td>\n",
              "      <td>...</td>\n",
              "      <td>...</td>\n",
              "      <td>...</td>\n",
              "      <td>...</td>\n",
              "      <td>...</td>\n",
              "      <td>...</td>\n",
              "    </tr>\n",
              "    <tr>\n",
              "      <th>361</th>\n",
              "      <td>2017.0</td>\n",
              "      <td>12.0</td>\n",
              "      <td>27.0</td>\n",
              "      <td>1.5</td>\n",
              "      <td>28.3</td>\n",
              "      <td>24.6</td>\n",
              "      <td>26.45</td>\n",
              "      <td>2</td>\n",
              "      <td>70</td>\n",
              "    </tr>\n",
              "    <tr>\n",
              "      <th>362</th>\n",
              "      <td>2017.0</td>\n",
              "      <td>12.0</td>\n",
              "      <td>28.0</td>\n",
              "      <td>0</td>\n",
              "      <td>31.2</td>\n",
              "      <td>24.7</td>\n",
              "      <td>27.95</td>\n",
              "      <td>3</td>\n",
              "      <td>70</td>\n",
              "    </tr>\n",
              "    <tr>\n",
              "      <th>363</th>\n",
              "      <td>2017.0</td>\n",
              "      <td>12.0</td>\n",
              "      <td>29.0</td>\n",
              "      <td>0</td>\n",
              "      <td>29.6</td>\n",
              "      <td>23.7</td>\n",
              "      <td>26.65</td>\n",
              "      <td>3</td>\n",
              "      <td>70</td>\n",
              "    </tr>\n",
              "    <tr>\n",
              "      <th>364</th>\n",
              "      <td>2017.0</td>\n",
              "      <td>12.0</td>\n",
              "      <td>30.0</td>\n",
              "      <td>0</td>\n",
              "      <td>29.5</td>\n",
              "      <td>22.8</td>\n",
              "      <td>26.15</td>\n",
              "      <td>3</td>\n",
              "      <td>70</td>\n",
              "    </tr>\n",
              "    <tr>\n",
              "      <th>365</th>\n",
              "      <td>2017.0</td>\n",
              "      <td>12.0</td>\n",
              "      <td>31.0</td>\n",
              "      <td>0</td>\n",
              "      <td>30.6</td>\n",
              "      <td>23</td>\n",
              "      <td>26.8</td>\n",
              "      <td>2</td>\n",
              "      <td>60</td>\n",
              "    </tr>\n",
              "  </tbody>\n",
              "</table>\n",
              "<p>366 rows × 9 columns</p>\n",
              "</div>"
            ],
            "text/plain": [
              "       YEAR  MONTH   DAY RAINFALL  ...  TMIN    TMEAN WIND SPEED WIND DIRECTION\n",
              "0       NaN    NaN   NaN       mm  ...    °C       °C        m/s        degrees\n",
              "1    2017.0    1.0   1.0        0  ...  23.6  27.7655          3             80\n",
              "2    2017.0    1.0   2.0        0  ...  24.6     27.8          2             70\n",
              "3    2017.0    1.0   3.0        0  ...  25.2    28.85          3             80\n",
              "4    2017.0    1.0   4.0        T  ...  24.2      NaN          2            100\n",
              "..      ...    ...   ...      ...  ...   ...      ...        ...            ...\n",
              "361  2017.0   12.0  27.0      1.5  ...  24.6    26.45          2             70\n",
              "362  2017.0   12.0  28.0        0  ...  24.7    27.95          3             70\n",
              "363  2017.0   12.0  29.0        0  ...  23.7    26.65          3             70\n",
              "364  2017.0   12.0  30.0        0  ...  22.8    26.15          3             70\n",
              "365  2017.0   12.0  31.0        0  ...    23     26.8          2             60\n",
              "\n",
              "[366 rows x 9 columns]"
            ]
          },
          "metadata": {
            "tags": []
          },
          "execution_count": 43
        }
      ]
    },
    {
      "cell_type": "code",
      "metadata": {
        "id": "Bt0DaZ-l1cvq"
      },
      "source": [
        "## Dropping Rows\n",
        "naia_df = naia_df.drop(index=0)\n",
        "## original file = file operation"
      ],
      "execution_count": null,
      "outputs": []
    },
    {
      "cell_type": "code",
      "metadata": {
        "colab": {
          "base_uri": "https://localhost:8080/",
          "height": 419
        },
        "id": "idAiP8jX1mrh",
        "outputId": "924d7ba8-5d75-4301-96d0-d33c8d50293a"
      },
      "source": [
        "naia_df"
      ],
      "execution_count": 46,
      "outputs": [
        {
          "output_type": "execute_result",
          "data": {
            "text/html": [
              "<div>\n",
              "<style scoped>\n",
              "    .dataframe tbody tr th:only-of-type {\n",
              "        vertical-align: middle;\n",
              "    }\n",
              "\n",
              "    .dataframe tbody tr th {\n",
              "        vertical-align: top;\n",
              "    }\n",
              "\n",
              "    .dataframe thead th {\n",
              "        text-align: right;\n",
              "    }\n",
              "</style>\n",
              "<table border=\"1\" class=\"dataframe\">\n",
              "  <thead>\n",
              "    <tr style=\"text-align: right;\">\n",
              "      <th></th>\n",
              "      <th>YEAR</th>\n",
              "      <th>MONTH</th>\n",
              "      <th>DAY</th>\n",
              "      <th>RAINFALL</th>\n",
              "      <th>TMAX</th>\n",
              "      <th>TMIN</th>\n",
              "      <th>TMEAN</th>\n",
              "      <th>WIND SPEED</th>\n",
              "      <th>WIND DIRECTION</th>\n",
              "    </tr>\n",
              "  </thead>\n",
              "  <tbody>\n",
              "    <tr>\n",
              "      <th>1</th>\n",
              "      <td>2017.0</td>\n",
              "      <td>1.0</td>\n",
              "      <td>1.0</td>\n",
              "      <td>0</td>\n",
              "      <td>31.931</td>\n",
              "      <td>23.6</td>\n",
              "      <td>27.7655</td>\n",
              "      <td>3</td>\n",
              "      <td>80</td>\n",
              "    </tr>\n",
              "    <tr>\n",
              "      <th>2</th>\n",
              "      <td>2017.0</td>\n",
              "      <td>1.0</td>\n",
              "      <td>2.0</td>\n",
              "      <td>0</td>\n",
              "      <td>31</td>\n",
              "      <td>24.6</td>\n",
              "      <td>27.8</td>\n",
              "      <td>2</td>\n",
              "      <td>70</td>\n",
              "    </tr>\n",
              "    <tr>\n",
              "      <th>3</th>\n",
              "      <td>2017.0</td>\n",
              "      <td>1.0</td>\n",
              "      <td>3.0</td>\n",
              "      <td>0</td>\n",
              "      <td>32.5</td>\n",
              "      <td>25.2</td>\n",
              "      <td>28.85</td>\n",
              "      <td>3</td>\n",
              "      <td>80</td>\n",
              "    </tr>\n",
              "    <tr>\n",
              "      <th>4</th>\n",
              "      <td>2017.0</td>\n",
              "      <td>1.0</td>\n",
              "      <td>4.0</td>\n",
              "      <td>T</td>\n",
              "      <td>NaN</td>\n",
              "      <td>24.2</td>\n",
              "      <td>NaN</td>\n",
              "      <td>2</td>\n",
              "      <td>100</td>\n",
              "    </tr>\n",
              "    <tr>\n",
              "      <th>5</th>\n",
              "      <td>2017.0</td>\n",
              "      <td>1.0</td>\n",
              "      <td>5.0</td>\n",
              "      <td>0.45</td>\n",
              "      <td>NaN</td>\n",
              "      <td>22.78</td>\n",
              "      <td>NaN</td>\n",
              "      <td>2</td>\n",
              "      <td>110</td>\n",
              "    </tr>\n",
              "    <tr>\n",
              "      <th>...</th>\n",
              "      <td>...</td>\n",
              "      <td>...</td>\n",
              "      <td>...</td>\n",
              "      <td>...</td>\n",
              "      <td>...</td>\n",
              "      <td>...</td>\n",
              "      <td>...</td>\n",
              "      <td>...</td>\n",
              "      <td>...</td>\n",
              "    </tr>\n",
              "    <tr>\n",
              "      <th>361</th>\n",
              "      <td>2017.0</td>\n",
              "      <td>12.0</td>\n",
              "      <td>27.0</td>\n",
              "      <td>1.5</td>\n",
              "      <td>28.3</td>\n",
              "      <td>24.6</td>\n",
              "      <td>26.45</td>\n",
              "      <td>2</td>\n",
              "      <td>70</td>\n",
              "    </tr>\n",
              "    <tr>\n",
              "      <th>362</th>\n",
              "      <td>2017.0</td>\n",
              "      <td>12.0</td>\n",
              "      <td>28.0</td>\n",
              "      <td>0</td>\n",
              "      <td>31.2</td>\n",
              "      <td>24.7</td>\n",
              "      <td>27.95</td>\n",
              "      <td>3</td>\n",
              "      <td>70</td>\n",
              "    </tr>\n",
              "    <tr>\n",
              "      <th>363</th>\n",
              "      <td>2017.0</td>\n",
              "      <td>12.0</td>\n",
              "      <td>29.0</td>\n",
              "      <td>0</td>\n",
              "      <td>29.6</td>\n",
              "      <td>23.7</td>\n",
              "      <td>26.65</td>\n",
              "      <td>3</td>\n",
              "      <td>70</td>\n",
              "    </tr>\n",
              "    <tr>\n",
              "      <th>364</th>\n",
              "      <td>2017.0</td>\n",
              "      <td>12.0</td>\n",
              "      <td>30.0</td>\n",
              "      <td>0</td>\n",
              "      <td>29.5</td>\n",
              "      <td>22.8</td>\n",
              "      <td>26.15</td>\n",
              "      <td>3</td>\n",
              "      <td>70</td>\n",
              "    </tr>\n",
              "    <tr>\n",
              "      <th>365</th>\n",
              "      <td>2017.0</td>\n",
              "      <td>12.0</td>\n",
              "      <td>31.0</td>\n",
              "      <td>0</td>\n",
              "      <td>30.6</td>\n",
              "      <td>23</td>\n",
              "      <td>26.8</td>\n",
              "      <td>2</td>\n",
              "      <td>60</td>\n",
              "    </tr>\n",
              "  </tbody>\n",
              "</table>\n",
              "<p>365 rows × 9 columns</p>\n",
              "</div>"
            ],
            "text/plain": [
              "       YEAR  MONTH   DAY RAINFALL  ...   TMIN    TMEAN WIND SPEED WIND DIRECTION\n",
              "1    2017.0    1.0   1.0        0  ...   23.6  27.7655          3             80\n",
              "2    2017.0    1.0   2.0        0  ...   24.6     27.8          2             70\n",
              "3    2017.0    1.0   3.0        0  ...   25.2    28.85          3             80\n",
              "4    2017.0    1.0   4.0        T  ...   24.2      NaN          2            100\n",
              "5    2017.0    1.0   5.0     0.45  ...  22.78      NaN          2            110\n",
              "..      ...    ...   ...      ...  ...    ...      ...        ...            ...\n",
              "361  2017.0   12.0  27.0      1.5  ...   24.6    26.45          2             70\n",
              "362  2017.0   12.0  28.0        0  ...   24.7    27.95          3             70\n",
              "363  2017.0   12.0  29.0        0  ...   23.7    26.65          3             70\n",
              "364  2017.0   12.0  30.0        0  ...   22.8    26.15          3             70\n",
              "365  2017.0   12.0  31.0        0  ...     23     26.8          2             60\n",
              "\n",
              "[365 rows x 9 columns]"
            ]
          },
          "metadata": {
            "tags": []
          },
          "execution_count": 46
        }
      ]
    },
    {
      "cell_type": "code",
      "metadata": {
        "colab": {
          "base_uri": "https://localhost:8080/"
        },
        "id": "iSlHHnXv2WBY",
        "outputId": "e8d91396-2b41-438e-ed9c-05bec8887d1d"
      },
      "source": [
        "### NaN Values\n",
        "naia_df.isna().sum()"
      ],
      "execution_count": 47,
      "outputs": [
        {
          "output_type": "execute_result",
          "data": {
            "text/plain": [
              "YEAR               0\n",
              "MONTH              0\n",
              "DAY                0\n",
              "RAINFALL           0\n",
              "TMAX              11\n",
              "TMIN               8\n",
              "TMEAN             45\n",
              "WIND SPEED         0\n",
              "WIND DIRECTION     0\n",
              "dtype: int64"
            ]
          },
          "metadata": {
            "tags": []
          },
          "execution_count": 47
        }
      ]
    },
    {
      "cell_type": "code",
      "metadata": {
        "colab": {
          "base_uri": "https://localhost:8080/",
          "height": 149
        },
        "id": "PCwSAHs72bng",
        "outputId": "83cde212-318f-43c4-8b77-9bbb834e892d"
      },
      "source": [
        "## Exploring the data\n",
        "plt.figure(figsize=(20,2))\n",
        "naia_df['TMEAN'].plot()"
      ],
      "execution_count": 48,
      "outputs": [
        {
          "output_type": "execute_result",
          "data": {
            "text/plain": [
              "<matplotlib.axes._subplots.AxesSubplot at 0x7f6b509e2110>"
            ]
          },
          "metadata": {
            "tags": []
          },
          "execution_count": 48
        },
        {
          "output_type": "display_data",
          "data": {
            "image/png": "[encoded data removed]",
            "text/plain": [
              "<Figure size 1440x144 with 1 Axes>"
            ]
          },
          "metadata": {
            "tags": [],
            "needs_background": "light"
          }
        }
      ]
    },
    {
      "cell_type": "code",
      "metadata": {
        "id": "eyedkfYa3DQR"
      },
      "source": [
        "### Converting Data Types\n",
        "naia_df.astype(float)"
      ],
      "execution_count": null,
      "outputs": []
    },
    {
      "cell_type": "code",
      "metadata": {
        "colab": {
          "base_uri": "https://localhost:8080/"
        },
        "id": "BXUYPAH03Vkp",
        "outputId": "93bfb3e4-f795-477c-d017-315dfe354e9c"
      },
      "source": [
        "### Check datatypes\n",
        "naia_df.dtypes"
      ],
      "execution_count": 50,
      "outputs": [
        {
          "output_type": "execute_result",
          "data": {
            "text/plain": [
              "YEAR              float64\n",
              "MONTH             float64\n",
              "DAY               float64\n",
              "RAINFALL           object\n",
              "TMAX               object\n",
              "TMIN               object\n",
              "TMEAN              object\n",
              "WIND SPEED         object\n",
              "WIND DIRECTION     object\n",
              "dtype: object"
            ]
          },
          "metadata": {
            "tags": []
          },
          "execution_count": 50
        }
      ]
    },
    {
      "cell_type": "code",
      "metadata": {
        "colab": {
          "base_uri": "https://localhost:8080/",
          "height": 419
        },
        "id": "vgqC9_f833qJ",
        "outputId": "5dde4019-c589-4d38-e3c2-711b9e0a5efb"
      },
      "source": [
        "\"\"\"\n",
        "Cleaning Rules:\n",
        "T - 0.01\n",
        "\"\"\"\n",
        "### Fill in the T\n",
        "naia_df['RAINFALL'] = naia_df['RAINFALL'].replace({\"T\":0.01})\n",
        "naia_df"
      ],
      "execution_count": 51,
      "outputs": [
        {
          "output_type": "execute_result",
          "data": {
            "text/html": [
              "<div>\n",
              "<style scoped>\n",
              "    .dataframe tbody tr th:only-of-type {\n",
              "        vertical-align: middle;\n",
              "    }\n",
              "\n",
              "    .dataframe tbody tr th {\n",
              "        vertical-align: top;\n",
              "    }\n",
              "\n",
              "    .dataframe thead th {\n",
              "        text-align: right;\n",
              "    }\n",
              "</style>\n",
              "<table border=\"1\" class=\"dataframe\">\n",
              "  <thead>\n",
              "    <tr style=\"text-align: right;\">\n",
              "      <th></th>\n",
              "      <th>YEAR</th>\n",
              "      <th>MONTH</th>\n",
              "      <th>DAY</th>\n",
              "      <th>RAINFALL</th>\n",
              "      <th>TMAX</th>\n",
              "      <th>TMIN</th>\n",
              "      <th>TMEAN</th>\n",
              "      <th>WIND SPEED</th>\n",
              "      <th>WIND DIRECTION</th>\n",
              "    </tr>\n",
              "  </thead>\n",
              "  <tbody>\n",
              "    <tr>\n",
              "      <th>1</th>\n",
              "      <td>2017.0</td>\n",
              "      <td>1.0</td>\n",
              "      <td>1.0</td>\n",
              "      <td>0.00</td>\n",
              "      <td>31.931</td>\n",
              "      <td>23.6</td>\n",
              "      <td>27.7655</td>\n",
              "      <td>3</td>\n",
              "      <td>80</td>\n",
              "    </tr>\n",
              "    <tr>\n",
              "      <th>2</th>\n",
              "      <td>2017.0</td>\n",
              "      <td>1.0</td>\n",
              "      <td>2.0</td>\n",
              "      <td>0.00</td>\n",
              "      <td>31</td>\n",
              "      <td>24.6</td>\n",
              "      <td>27.8</td>\n",
              "      <td>2</td>\n",
              "      <td>70</td>\n",
              "    </tr>\n",
              "    <tr>\n",
              "      <th>3</th>\n",
              "      <td>2017.0</td>\n",
              "      <td>1.0</td>\n",
              "      <td>3.0</td>\n",
              "      <td>0.00</td>\n",
              "      <td>32.5</td>\n",
              "      <td>25.2</td>\n",
              "      <td>28.85</td>\n",
              "      <td>3</td>\n",
              "      <td>80</td>\n",
              "    </tr>\n",
              "    <tr>\n",
              "      <th>4</th>\n",
              "      <td>2017.0</td>\n",
              "      <td>1.0</td>\n",
              "      <td>4.0</td>\n",
              "      <td>0.01</td>\n",
              "      <td>NaN</td>\n",
              "      <td>24.2</td>\n",
              "      <td>NaN</td>\n",
              "      <td>2</td>\n",
              "      <td>100</td>\n",
              "    </tr>\n",
              "    <tr>\n",
              "      <th>5</th>\n",
              "      <td>2017.0</td>\n",
              "      <td>1.0</td>\n",
              "      <td>5.0</td>\n",
              "      <td>0.45</td>\n",
              "      <td>NaN</td>\n",
              "      <td>22.78</td>\n",
              "      <td>NaN</td>\n",
              "      <td>2</td>\n",
              "      <td>110</td>\n",
              "    </tr>\n",
              "    <tr>\n",
              "      <th>...</th>\n",
              "      <td>...</td>\n",
              "      <td>...</td>\n",
              "      <td>...</td>\n",
              "      <td>...</td>\n",
              "      <td>...</td>\n",
              "      <td>...</td>\n",
              "      <td>...</td>\n",
              "      <td>...</td>\n",
              "      <td>...</td>\n",
              "    </tr>\n",
              "    <tr>\n",
              "      <th>361</th>\n",
              "      <td>2017.0</td>\n",
              "      <td>12.0</td>\n",
              "      <td>27.0</td>\n",
              "      <td>1.50</td>\n",
              "      <td>28.3</td>\n",
              "      <td>24.6</td>\n",
              "      <td>26.45</td>\n",
              "      <td>2</td>\n",
              "      <td>70</td>\n",
              "    </tr>\n",
              "    <tr>\n",
              "      <th>362</th>\n",
              "      <td>2017.0</td>\n",
              "      <td>12.0</td>\n",
              "      <td>28.0</td>\n",
              "      <td>0.00</td>\n",
              "      <td>31.2</td>\n",
              "      <td>24.7</td>\n",
              "      <td>27.95</td>\n",
              "      <td>3</td>\n",
              "      <td>70</td>\n",
              "    </tr>\n",
              "    <tr>\n",
              "      <th>363</th>\n",
              "      <td>2017.0</td>\n",
              "      <td>12.0</td>\n",
              "      <td>29.0</td>\n",
              "      <td>0.00</td>\n",
              "      <td>29.6</td>\n",
              "      <td>23.7</td>\n",
              "      <td>26.65</td>\n",
              "      <td>3</td>\n",
              "      <td>70</td>\n",
              "    </tr>\n",
              "    <tr>\n",
              "      <th>364</th>\n",
              "      <td>2017.0</td>\n",
              "      <td>12.0</td>\n",
              "      <td>30.0</td>\n",
              "      <td>0.00</td>\n",
              "      <td>29.5</td>\n",
              "      <td>22.8</td>\n",
              "      <td>26.15</td>\n",
              "      <td>3</td>\n",
              "      <td>70</td>\n",
              "    </tr>\n",
              "    <tr>\n",
              "      <th>365</th>\n",
              "      <td>2017.0</td>\n",
              "      <td>12.0</td>\n",
              "      <td>31.0</td>\n",
              "      <td>0.00</td>\n",
              "      <td>30.6</td>\n",
              "      <td>23</td>\n",
              "      <td>26.8</td>\n",
              "      <td>2</td>\n",
              "      <td>60</td>\n",
              "    </tr>\n",
              "  </tbody>\n",
              "</table>\n",
              "<p>365 rows × 9 columns</p>\n",
              "</div>"
            ],
            "text/plain": [
              "       YEAR  MONTH   DAY  RAINFALL  ...   TMIN    TMEAN WIND SPEED WIND DIRECTION\n",
              "1    2017.0    1.0   1.0      0.00  ...   23.6  27.7655          3             80\n",
              "2    2017.0    1.0   2.0      0.00  ...   24.6     27.8          2             70\n",
              "3    2017.0    1.0   3.0      0.00  ...   25.2    28.85          3             80\n",
              "4    2017.0    1.0   4.0      0.01  ...   24.2      NaN          2            100\n",
              "5    2017.0    1.0   5.0      0.45  ...  22.78      NaN          2            110\n",
              "..      ...    ...   ...       ...  ...    ...      ...        ...            ...\n",
              "361  2017.0   12.0  27.0      1.50  ...   24.6    26.45          2             70\n",
              "362  2017.0   12.0  28.0      0.00  ...   24.7    27.95          3             70\n",
              "363  2017.0   12.0  29.0      0.00  ...   23.7    26.65          3             70\n",
              "364  2017.0   12.0  30.0      0.00  ...   22.8    26.15          3             70\n",
              "365  2017.0   12.0  31.0      0.00  ...     23     26.8          2             60\n",
              "\n",
              "[365 rows x 9 columns]"
            ]
          },
          "metadata": {
            "tags": []
          },
          "execution_count": 51
        }
      ]
    },
    {
      "cell_type": "code",
      "metadata": {
        "id": "Wdcf23rN4VyZ"
      },
      "source": [
        "### Converting Data Types Again!\n",
        "naia_df = naia_df.astype(float)"
      ],
      "execution_count": 53,
      "outputs": []
    },
    {
      "cell_type": "code",
      "metadata": {
        "colab": {
          "base_uri": "https://localhost:8080/"
        },
        "id": "UEzM7Pgy5GjK",
        "outputId": "eeb0283b-66d0-4e16-d79f-a580661897a8"
      },
      "source": [
        "### Check datatypes\n",
        "naia_df.dtypes"
      ],
      "execution_count": 54,
      "outputs": [
        {
          "output_type": "execute_result",
          "data": {
            "text/plain": [
              "YEAR              float64\n",
              "MONTH             float64\n",
              "DAY               float64\n",
              "RAINFALL          float64\n",
              "TMAX              float64\n",
              "TMIN              float64\n",
              "TMEAN             float64\n",
              "WIND SPEED        float64\n",
              "WIND DIRECTION    float64\n",
              "dtype: object"
            ]
          },
          "metadata": {
            "tags": []
          },
          "execution_count": 54
        }
      ]
    },
    {
      "cell_type": "code",
      "metadata": {
        "colab": {
          "base_uri": "https://localhost:8080/",
          "height": 191
        },
        "id": "dvsql6wy5NDp",
        "outputId": "d33d035d-72c0-4398-b3df-e586105f9198"
      },
      "source": [
        "## Check the data again\n",
        "plt.figure(figsize=(32,5))\n",
        "naia_df['TMEAN'].plot()"
      ],
      "execution_count": 55,
      "outputs": [
        {
          "output_type": "execute_result",
          "data": {
            "text/plain": [
              "<matplotlib.axes._subplots.AxesSubplot at 0x7f6b50a5d5d0>"
            ]
          },
          "metadata": {
            "tags": []
          },
          "execution_count": 55
        },
        {
          "output_type": "display_data",
          "data": {
            "image/png": "[encoded data removed]",
            "text/plain": [
              "<Figure size 2304x360 with 1 Axes>"
            ]
          },
          "metadata": {
            "tags": [],
            "needs_background": "light"
          }
        }
      ]
    },
    {
      "cell_type": "code",
      "metadata": {
        "id": "nvIid1J45woj"
      },
      "source": [
        "## Connecting the dots\n",
        "naia_df['TMEAN'] = naia_df['TMEAN'].interpolate()\n",
        "naia_df['TMIN'] = naia_df['TMIN'].interpolate()\n",
        "naia_df['TMAX'] = naia_df['TMAX'].interpolate()"
      ],
      "execution_count": 56,
      "outputs": []
    },
    {
      "cell_type": "code",
      "metadata": {
        "id": "uxaAkRp76QC6"
      },
      "source": [
        "## Check data again"
      ],
      "execution_count": 57,
      "outputs": []
    },
    {
      "cell_type": "code",
      "metadata": {
        "colab": {
          "base_uri": "https://localhost:8080/"
        },
        "id": "YGJBII9d6pLD",
        "outputId": "6518d32e-2e9f-4531-af1c-16715daab4c8"
      },
      "source": [
        "## Applying a converstion\n",
        "def celsius_to_kelvin(temp):\n",
        "  K = temp + 273.15\n",
        "  return K\n",
        "celsius_to_kelvin(32)"
      ],
      "execution_count": 59,
      "outputs": [
        {
          "output_type": "execute_result",
          "data": {
            "text/plain": [
              "305.15"
            ]
          },
          "metadata": {
            "tags": []
          },
          "execution_count": 59
        }
      ]
    },
    {
      "cell_type": "code",
      "metadata": {
        "colab": {
          "base_uri": "https://localhost:8080/",
          "height": 419
        },
        "id": "55Y6nsfn6ta7",
        "outputId": "d6add17b-92a8-455b-d38b-e309b27c2028"
      },
      "source": [
        "naia_temps = naia_df[['TMIN','TMAX','TMEAN']]\n",
        "naia_df[['TMIN','TMAX','TMEAN']] = celsius_to_kelvin(naia_temps)\n",
        "naia_df"
      ],
      "execution_count": 60,
      "outputs": [
        {
          "output_type": "execute_result",
          "data": {
            "text/html": [
              "<div>\n",
              "<style scoped>\n",
              "    .dataframe tbody tr th:only-of-type {\n",
              "        vertical-align: middle;\n",
              "    }\n",
              "\n",
              "    .dataframe tbody tr th {\n",
              "        vertical-align: top;\n",
              "    }\n",
              "\n",
              "    .dataframe thead th {\n",
              "        text-align: right;\n",
              "    }\n",
              "</style>\n",
              "<table border=\"1\" class=\"dataframe\">\n",
              "  <thead>\n",
              "    <tr style=\"text-align: right;\">\n",
              "      <th></th>\n",
              "      <th>YEAR</th>\n",
              "      <th>MONTH</th>\n",
              "      <th>DAY</th>\n",
              "      <th>RAINFALL</th>\n",
              "      <th>TMAX</th>\n",
              "      <th>TMIN</th>\n",
              "      <th>TMEAN</th>\n",
              "      <th>WIND SPEED</th>\n",
              "      <th>WIND DIRECTION</th>\n",
              "    </tr>\n",
              "  </thead>\n",
              "  <tbody>\n",
              "    <tr>\n",
              "      <th>1</th>\n",
              "      <td>2017.0</td>\n",
              "      <td>1.0</td>\n",
              "      <td>1.0</td>\n",
              "      <td>0.00</td>\n",
              "      <td>305.081</td>\n",
              "      <td>296.75</td>\n",
              "      <td>300.9155</td>\n",
              "      <td>3.0</td>\n",
              "      <td>80.0</td>\n",
              "    </tr>\n",
              "    <tr>\n",
              "      <th>2</th>\n",
              "      <td>2017.0</td>\n",
              "      <td>1.0</td>\n",
              "      <td>2.0</td>\n",
              "      <td>0.00</td>\n",
              "      <td>304.150</td>\n",
              "      <td>297.75</td>\n",
              "      <td>300.9500</td>\n",
              "      <td>2.0</td>\n",
              "      <td>70.0</td>\n",
              "    </tr>\n",
              "    <tr>\n",
              "      <th>3</th>\n",
              "      <td>2017.0</td>\n",
              "      <td>1.0</td>\n",
              "      <td>3.0</td>\n",
              "      <td>0.00</td>\n",
              "      <td>305.650</td>\n",
              "      <td>298.35</td>\n",
              "      <td>302.0000</td>\n",
              "      <td>3.0</td>\n",
              "      <td>80.0</td>\n",
              "    </tr>\n",
              "    <tr>\n",
              "      <th>4</th>\n",
              "      <td>2017.0</td>\n",
              "      <td>1.0</td>\n",
              "      <td>4.0</td>\n",
              "      <td>0.01</td>\n",
              "      <td>305.500</td>\n",
              "      <td>297.35</td>\n",
              "      <td>301.5500</td>\n",
              "      <td>2.0</td>\n",
              "      <td>100.0</td>\n",
              "    </tr>\n",
              "    <tr>\n",
              "      <th>5</th>\n",
              "      <td>2017.0</td>\n",
              "      <td>1.0</td>\n",
              "      <td>5.0</td>\n",
              "      <td>0.45</td>\n",
              "      <td>305.350</td>\n",
              "      <td>295.93</td>\n",
              "      <td>301.1000</td>\n",
              "      <td>2.0</td>\n",
              "      <td>110.0</td>\n",
              "    </tr>\n",
              "    <tr>\n",
              "      <th>...</th>\n",
              "      <td>...</td>\n",
              "      <td>...</td>\n",
              "      <td>...</td>\n",
              "      <td>...</td>\n",
              "      <td>...</td>\n",
              "      <td>...</td>\n",
              "      <td>...</td>\n",
              "      <td>...</td>\n",
              "      <td>...</td>\n",
              "    </tr>\n",
              "    <tr>\n",
              "      <th>361</th>\n",
              "      <td>2017.0</td>\n",
              "      <td>12.0</td>\n",
              "      <td>27.0</td>\n",
              "      <td>1.50</td>\n",
              "      <td>301.450</td>\n",
              "      <td>297.75</td>\n",
              "      <td>299.6000</td>\n",
              "      <td>2.0</td>\n",
              "      <td>70.0</td>\n",
              "    </tr>\n",
              "    <tr>\n",
              "      <th>362</th>\n",
              "      <td>2017.0</td>\n",
              "      <td>12.0</td>\n",
              "      <td>28.0</td>\n",
              "      <td>0.00</td>\n",
              "      <td>304.350</td>\n",
              "      <td>297.85</td>\n",
              "      <td>301.1000</td>\n",
              "      <td>3.0</td>\n",
              "      <td>70.0</td>\n",
              "    </tr>\n",
              "    <tr>\n",
              "      <th>363</th>\n",
              "      <td>2017.0</td>\n",
              "      <td>12.0</td>\n",
              "      <td>29.0</td>\n",
              "      <td>0.00</td>\n",
              "      <td>302.750</td>\n",
              "      <td>296.85</td>\n",
              "      <td>299.8000</td>\n",
              "      <td>3.0</td>\n",
              "      <td>70.0</td>\n",
              "    </tr>\n",
              "    <tr>\n",
              "      <th>364</th>\n",
              "      <td>2017.0</td>\n",
              "      <td>12.0</td>\n",
              "      <td>30.0</td>\n",
              "      <td>0.00</td>\n",
              "      <td>302.650</td>\n",
              "      <td>295.95</td>\n",
              "      <td>299.3000</td>\n",
              "      <td>3.0</td>\n",
              "      <td>70.0</td>\n",
              "    </tr>\n",
              "    <tr>\n",
              "      <th>365</th>\n",
              "      <td>2017.0</td>\n",
              "      <td>12.0</td>\n",
              "      <td>31.0</td>\n",
              "      <td>0.00</td>\n",
              "      <td>303.750</td>\n",
              "      <td>296.15</td>\n",
              "      <td>299.9500</td>\n",
              "      <td>2.0</td>\n",
              "      <td>60.0</td>\n",
              "    </tr>\n",
              "  </tbody>\n",
              "</table>\n",
              "<p>365 rows × 9 columns</p>\n",
              "</div>"
            ],
            "text/plain": [
              "       YEAR  MONTH   DAY  ...     TMEAN  WIND SPEED  WIND DIRECTION\n",
              "1    2017.0    1.0   1.0  ...  300.9155         3.0            80.0\n",
              "2    2017.0    1.0   2.0  ...  300.9500         2.0            70.0\n",
              "3    2017.0    1.0   3.0  ...  302.0000         3.0            80.0\n",
              "4    2017.0    1.0   4.0  ...  301.5500         2.0           100.0\n",
              "5    2017.0    1.0   5.0  ...  301.1000         2.0           110.0\n",
              "..      ...    ...   ...  ...       ...         ...             ...\n",
              "361  2017.0   12.0  27.0  ...  299.6000         2.0            70.0\n",
              "362  2017.0   12.0  28.0  ...  301.1000         3.0            70.0\n",
              "363  2017.0   12.0  29.0  ...  299.8000         3.0            70.0\n",
              "364  2017.0   12.0  30.0  ...  299.3000         3.0            70.0\n",
              "365  2017.0   12.0  31.0  ...  299.9500         2.0            60.0\n",
              "\n",
              "[365 rows x 9 columns]"
            ]
          },
          "metadata": {
            "tags": []
          },
          "execution_count": 60
        }
      ]
    },
    {
      "cell_type": "code",
      "metadata": {
        "colab": {
          "base_uri": "https://localhost:8080/",
          "height": 419
        },
        "id": "L5F4pdaU7Y4k",
        "outputId": "3452e2a1-a973-493e-d116-a54a4da3ece5"
      },
      "source": [
        "### Make Data\n",
        "naia_df[[\"YEAR\",\"MONTH\",\"DAY\"]] = naia_df[[\"YEAR\",\"MONTH\",\"DAY\"]].astype(int).astype(str)\n",
        "naia_df['DATE'] = naia_df[[\"MONTH\",\"DAY\",\"YEAR\"]].agg('/'.join,axis=1)\n",
        "## MM/DD/YYYY\n",
        "# naia_df['DATE'] = naia_df[['MONTH', 'DAY', 'YEAR']].agg('/'.join,axis=1)\n",
        "# naia_df = naia_df.drop(labels=['YEAR','MONTH','DAY'],axis=1)\n",
        "naia_df"
      ],
      "execution_count": 61,
      "outputs": [
        {
          "output_type": "execute_result",
          "data": {
            "text/html": [
              "<div>\n",
              "<style scoped>\n",
              "    .dataframe tbody tr th:only-of-type {\n",
              "        vertical-align: middle;\n",
              "    }\n",
              "\n",
              "    .dataframe tbody tr th {\n",
              "        vertical-align: top;\n",
              "    }\n",
              "\n",
              "    .dataframe thead th {\n",
              "        text-align: right;\n",
              "    }\n",
              "</style>\n",
              "<table border=\"1\" class=\"dataframe\">\n",
              "  <thead>\n",
              "    <tr style=\"text-align: right;\">\n",
              "      <th></th>\n",
              "      <th>YEAR</th>\n",
              "      <th>MONTH</th>\n",
              "      <th>DAY</th>\n",
              "      <th>RAINFALL</th>\n",
              "      <th>TMAX</th>\n",
              "      <th>TMIN</th>\n",
              "      <th>TMEAN</th>\n",
              "      <th>WIND SPEED</th>\n",
              "      <th>WIND DIRECTION</th>\n",
              "      <th>DATE</th>\n",
              "    </tr>\n",
              "  </thead>\n",
              "  <tbody>\n",
              "    <tr>\n",
              "      <th>1</th>\n",
              "      <td>2017</td>\n",
              "      <td>1</td>\n",
              "      <td>1</td>\n",
              "      <td>0.00</td>\n",
              "      <td>305.081</td>\n",
              "      <td>296.75</td>\n",
              "      <td>300.9155</td>\n",
              "      <td>3.0</td>\n",
              "      <td>80.0</td>\n",
              "      <td>1/1/2017</td>\n",
              "    </tr>\n",
              "    <tr>\n",
              "      <th>2</th>\n",
              "      <td>2017</td>\n",
              "      <td>1</td>\n",
              "      <td>2</td>\n",
              "      <td>0.00</td>\n",
              "      <td>304.150</td>\n",
              "      <td>297.75</td>\n",
              "      <td>300.9500</td>\n",
              "      <td>2.0</td>\n",
              "      <td>70.0</td>\n",
              "      <td>1/2/2017</td>\n",
              "    </tr>\n",
              "    <tr>\n",
              "      <th>3</th>\n",
              "      <td>2017</td>\n",
              "      <td>1</td>\n",
              "      <td>3</td>\n",
              "      <td>0.00</td>\n",
              "      <td>305.650</td>\n",
              "      <td>298.35</td>\n",
              "      <td>302.0000</td>\n",
              "      <td>3.0</td>\n",
              "      <td>80.0</td>\n",
              "      <td>1/3/2017</td>\n",
              "    </tr>\n",
              "    <tr>\n",
              "      <th>4</th>\n",
              "      <td>2017</td>\n",
              "      <td>1</td>\n",
              "      <td>4</td>\n",
              "      <td>0.01</td>\n",
              "      <td>305.500</td>\n",
              "      <td>297.35</td>\n",
              "      <td>301.5500</td>\n",
              "      <td>2.0</td>\n",
              "      <td>100.0</td>\n",
              "      <td>1/4/2017</td>\n",
              "    </tr>\n",
              "    <tr>\n",
              "      <th>5</th>\n",
              "      <td>2017</td>\n",
              "      <td>1</td>\n",
              "      <td>5</td>\n",
              "      <td>0.45</td>\n",
              "      <td>305.350</td>\n",
              "      <td>295.93</td>\n",
              "      <td>301.1000</td>\n",
              "      <td>2.0</td>\n",
              "      <td>110.0</td>\n",
              "      <td>1/5/2017</td>\n",
              "    </tr>\n",
              "    <tr>\n",
              "      <th>...</th>\n",
              "      <td>...</td>\n",
              "      <td>...</td>\n",
              "      <td>...</td>\n",
              "      <td>...</td>\n",
              "      <td>...</td>\n",
              "      <td>...</td>\n",
              "      <td>...</td>\n",
              "      <td>...</td>\n",
              "      <td>...</td>\n",
              "      <td>...</td>\n",
              "    </tr>\n",
              "    <tr>\n",
              "      <th>361</th>\n",
              "      <td>2017</td>\n",
              "      <td>12</td>\n",
              "      <td>27</td>\n",
              "      <td>1.50</td>\n",
              "      <td>301.450</td>\n",
              "      <td>297.75</td>\n",
              "      <td>299.6000</td>\n",
              "      <td>2.0</td>\n",
              "      <td>70.0</td>\n",
              "      <td>12/27/2017</td>\n",
              "    </tr>\n",
              "    <tr>\n",
              "      <th>362</th>\n",
              "      <td>2017</td>\n",
              "      <td>12</td>\n",
              "      <td>28</td>\n",
              "      <td>0.00</td>\n",
              "      <td>304.350</td>\n",
              "      <td>297.85</td>\n",
              "      <td>301.1000</td>\n",
              "      <td>3.0</td>\n",
              "      <td>70.0</td>\n",
              "      <td>12/28/2017</td>\n",
              "    </tr>\n",
              "    <tr>\n",
              "      <th>363</th>\n",
              "      <td>2017</td>\n",
              "      <td>12</td>\n",
              "      <td>29</td>\n",
              "      <td>0.00</td>\n",
              "      <td>302.750</td>\n",
              "      <td>296.85</td>\n",
              "      <td>299.8000</td>\n",
              "      <td>3.0</td>\n",
              "      <td>70.0</td>\n",
              "      <td>12/29/2017</td>\n",
              "    </tr>\n",
              "    <tr>\n",
              "      <th>364</th>\n",
              "      <td>2017</td>\n",
              "      <td>12</td>\n",
              "      <td>30</td>\n",
              "      <td>0.00</td>\n",
              "      <td>302.650</td>\n",
              "      <td>295.95</td>\n",
              "      <td>299.3000</td>\n",
              "      <td>3.0</td>\n",
              "      <td>70.0</td>\n",
              "      <td>12/30/2017</td>\n",
              "    </tr>\n",
              "    <tr>\n",
              "      <th>365</th>\n",
              "      <td>2017</td>\n",
              "      <td>12</td>\n",
              "      <td>31</td>\n",
              "      <td>0.00</td>\n",
              "      <td>303.750</td>\n",
              "      <td>296.15</td>\n",
              "      <td>299.9500</td>\n",
              "      <td>2.0</td>\n",
              "      <td>60.0</td>\n",
              "      <td>12/31/2017</td>\n",
              "    </tr>\n",
              "  </tbody>\n",
              "</table>\n",
              "<p>365 rows × 10 columns</p>\n",
              "</div>"
            ],
            "text/plain": [
              "     YEAR MONTH DAY  RAINFALL  ...     TMEAN  WIND SPEED  WIND DIRECTION        DATE\n",
              "1    2017     1   1      0.00  ...  300.9155         3.0            80.0    1/1/2017\n",
              "2    2017     1   2      0.00  ...  300.9500         2.0            70.0    1/2/2017\n",
              "3    2017     1   3      0.00  ...  302.0000         3.0            80.0    1/3/2017\n",
              "4    2017     1   4      0.01  ...  301.5500         2.0           100.0    1/4/2017\n",
              "5    2017     1   5      0.45  ...  301.1000         2.0           110.0    1/5/2017\n",
              "..    ...   ...  ..       ...  ...       ...         ...             ...         ...\n",
              "361  2017    12  27      1.50  ...  299.6000         2.0            70.0  12/27/2017\n",
              "362  2017    12  28      0.00  ...  301.1000         3.0            70.0  12/28/2017\n",
              "363  2017    12  29      0.00  ...  299.8000         3.0            70.0  12/29/2017\n",
              "364  2017    12  30      0.00  ...  299.3000         3.0            70.0  12/30/2017\n",
              "365  2017    12  31      0.00  ...  299.9500         2.0            60.0  12/31/2017\n",
              "\n",
              "[365 rows x 10 columns]"
            ]
          },
          "metadata": {
            "tags": []
          },
          "execution_count": 61
        }
      ]
    },
    {
      "cell_type": "code",
      "metadata": {
        "id": "3ZPLxpH785kK"
      },
      "source": [
        ""
      ],
      "execution_count": null,
      "outputs": []
    },
    {
      "cell_type": "markdown",
      "metadata": {
        "id": "pV5ViWOT8-Z0"
      },
      "source": [
        "# Normalization"
      ]
    },
    {
      "cell_type": "code",
      "metadata": {
        "id": "yeUggAI29Bi0"
      },
      "source": [
        ""
      ],
      "execution_count": null,
      "outputs": []
    }
  ]
}